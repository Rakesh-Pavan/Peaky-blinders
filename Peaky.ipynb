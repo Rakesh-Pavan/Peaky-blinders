{
 "cells": [
  {
   "cell_type": "code",
   "execution_count": 1,
   "id": "07e5a939",
   "metadata": {},
   "outputs": [],
   "source": [
    "import pandas as pd\n",
    "import numpy as np\n",
    "import random\n",
    "\n",
    "\n",
    "# Machine Learning Packages\n",
    "from sklearn.feature_extraction.text import CountVectorizer\n",
    "from sklearn.feature_extraction.text import TfidfVectorizer\n",
    "from sklearn.linear_model import LogisticRegression\n",
    "from sklearn.model_selection import train_test_split"
   ]
  },
  {
   "cell_type": "code",
   "execution_count": 2,
   "id": "b8e04d53",
   "metadata": {},
   "outputs": [],
   "source": [
    "urls_data = pd.read_csv(\"datathon_train.csv\")"
   ]
  },
  {
   "cell_type": "code",
   "execution_count": 3,
   "id": "fb5aa55e",
   "metadata": {},
   "outputs": [
    {
     "data": {
      "text/plain": [
       "pandas.core.frame.DataFrame"
      ]
     },
     "execution_count": 3,
     "metadata": {},
     "output_type": "execute_result"
    }
   ],
   "source": [
    "type(urls_data)"
   ]
  },
  {
   "cell_type": "code",
   "execution_count": 4,
   "id": "f7fdcc86",
   "metadata": {},
   "outputs": [
    {
     "data": {
      "text/html": [
       "<div>\n",
       "<style scoped>\n",
       "    .dataframe tbody tr th:only-of-type {\n",
       "        vertical-align: middle;\n",
       "    }\n",
       "\n",
       "    .dataframe tbody tr th {\n",
       "        vertical-align: top;\n",
       "    }\n",
       "\n",
       "    .dataframe thead th {\n",
       "        text-align: right;\n",
       "    }\n",
       "</style>\n",
       "<table border=\"1\" class=\"dataframe\">\n",
       "  <thead>\n",
       "    <tr style=\"text-align: right;\">\n",
       "      <th></th>\n",
       "      <th>https://www.peoplescollection.wales/discover/what/70/query/Merthyr</th>\n",
       "      <th>0</th>\n",
       "    </tr>\n",
       "  </thead>\n",
       "  <tbody>\n",
       "    <tr>\n",
       "      <th>0</th>\n",
       "      <td>http://yasli-sad.ru/css/chase/chaseall%20newin...</td>\n",
       "      <td>1</td>\n",
       "    </tr>\n",
       "    <tr>\n",
       "      <th>1</th>\n",
       "      <td>http://denizkent.net/wp-admin/js/login.alibaba...</td>\n",
       "      <td>1</td>\n",
       "    </tr>\n",
       "    <tr>\n",
       "      <th>2</th>\n",
       "      <td>http://www.marketbiz.net/mbz/wp-includes/js/jq...</td>\n",
       "      <td>1</td>\n",
       "    </tr>\n",
       "    <tr>\n",
       "      <th>3</th>\n",
       "      <td>http://guardiaoitau30horas.uniclassdispositivo...</td>\n",
       "      <td>1</td>\n",
       "    </tr>\n",
       "    <tr>\n",
       "      <th>4</th>\n",
       "      <td>http://chancejumpers.com/christmas/christmas-h...</td>\n",
       "      <td>0</td>\n",
       "    </tr>\n",
       "  </tbody>\n",
       "</table>\n",
       "</div>"
      ],
      "text/plain": [
       "  https://www.peoplescollection.wales/discover/what/70/query/Merthyr  0\n",
       "0  http://yasli-sad.ru/css/chase/chaseall%20newin...                  1\n",
       "1  http://denizkent.net/wp-admin/js/login.alibaba...                  1\n",
       "2  http://www.marketbiz.net/mbz/wp-includes/js/jq...                  1\n",
       "3  http://guardiaoitau30horas.uniclassdispositivo...                  1\n",
       "4  http://chancejumpers.com/christmas/christmas-h...                  0"
      ]
     },
     "execution_count": 4,
     "metadata": {},
     "output_type": "execute_result"
    }
   ],
   "source": [
    "urls_data.head()"
   ]
  },
  {
   "cell_type": "code",
   "execution_count": 5,
   "id": "30ed9866",
   "metadata": {},
   "outputs": [],
   "source": [
    "def makeTokens(f):\n",
    "    tkns_BySlash = str(f.encode('utf-8')).split('/')\t# make tokens after splitting by slash\n",
    "    total_Tokens = []\n",
    "    for i in tkns_BySlash:\n",
    "        tokens = str(i).split('-')\t# make tokens after splitting by dash\n",
    "        tkns_ByDot = []\n",
    "        for j in range(0,len(tokens)):\n",
    "            temp_Tokens = str(tokens[j]).split('.')\t# make tokens after splitting by dot\n",
    "            tkns_ByDot = tkns_ByDot + temp_Tokens\n",
    "        total_Tokens = total_Tokens + tokens + tkns_ByDot\n",
    "    total_Tokens = list(set(total_Tokens))\t#remove redundant tokens\n",
    "    if 'com' in total_Tokens:\n",
    "        total_Tokens.remove('com')\t#removing .com since it occurs a lot of times and it should not be included in our features\n",
    "    return total_Tokens"
   ]
  },
  {
   "cell_type": "code",
   "execution_count": 6,
   "id": "e0a6806e",
   "metadata": {},
   "outputs": [],
   "source": [
    "y = urls_data[\"0\"]"
   ]
  },
  {
   "cell_type": "code",
   "execution_count": 7,
   "id": "24481208",
   "metadata": {},
   "outputs": [],
   "source": [
    "url_list = urls_data[\"https://www.peoplescollection.wales/discover/what/70/query/Merthyr\"]"
   ]
  },
  {
   "cell_type": "code",
   "execution_count": 9,
   "id": "ea6045b9",
   "metadata": {},
   "outputs": [],
   "source": [
    "vectorizer = TfidfVectorizer(tokenizer=makeTokens)"
   ]
  },
  {
   "cell_type": "code",
   "execution_count": 10,
   "id": "3935d090",
   "metadata": {},
   "outputs": [],
   "source": [
    "X = vectorizer.fit_transform(url_list)"
   ]
  },
  {
   "cell_type": "code",
   "execution_count": 11,
   "id": "88d26b8d",
   "metadata": {},
   "outputs": [],
   "source": [
    "X_train, X_test, y_train, y_test = train_test_split(X, y, test_size=0.2, random_state=42)"
   ]
  },
  {
   "cell_type": "code",
   "execution_count": 12,
   "id": "c05e5240",
   "metadata": {},
   "outputs": [
    {
     "data": {
      "text/plain": [
       "LogisticRegression()"
      ]
     },
     "execution_count": 12,
     "metadata": {},
     "output_type": "execute_result"
    }
   ],
   "source": [
    "logit = LogisticRegression()\n",
    "logit.fit(X_train, y_train)"
   ]
  },
  {
   "cell_type": "code",
   "execution_count": 13,
   "id": "0c4a5c48",
   "metadata": {},
   "outputs": [
    {
     "name": "stdout",
     "output_type": "stream",
     "text": [
      "Accuracy  0.9124033313503866\n"
     ]
    }
   ],
   "source": [
    "print(\"Accuracy \",logit.score(X_test, y_test))"
   ]
  },
  {
   "cell_type": "code",
   "execution_count": null,
   "id": "1604ffe2",
   "metadata": {},
   "outputs": [],
   "source": []
  }
 ],
 "metadata": {
  "kernelspec": {
   "display_name": "Python 3 (ipykernel)",
   "language": "python",
   "name": "python3"
  },
  "language_info": {
   "codemirror_mode": {
    "name": "ipython",
    "version": 3
   },
   "file_extension": ".py",
   "mimetype": "text/x-python",
   "name": "python",
   "nbconvert_exporter": "python",
   "pygments_lexer": "ipython3",
   "version": "3.10.0"
  }
 },
 "nbformat": 4,
 "nbformat_minor": 5
}
