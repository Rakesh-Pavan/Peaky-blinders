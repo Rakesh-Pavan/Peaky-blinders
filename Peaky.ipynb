{
 "cells": [
  {
   "cell_type": "code",
   "execution_count": 55,
   "id": "eff1aaf1",
   "metadata": {},
   "outputs": [],
   "source": [
    "import pandas as pd\n",
    "import numpy as np\n",
    "import random\n",
    "\n",
    "\n",
    "# Machine Learning Packages\n",
    "from sklearn.feature_extraction.text import CountVectorizer\n",
    "from sklearn.feature_extraction.text import TfidfVectorizer\n",
    "from sklearn.linear_model import LogisticRegression\n",
    "from sklearn.model_selection import train_test_split"
   ]
  },
  {
   "cell_type": "code",
   "execution_count": 56,
   "id": "97f73e68",
   "metadata": {},
   "outputs": [],
   "source": [
    "urls_data = pd.read_csv(\"datathon_train.csv\", header=None)"
   ]
  },
  {
   "cell_type": "code",
   "execution_count": 57,
   "id": "e683e866",
   "metadata": {},
   "outputs": [
    {
     "data": {
      "text/plain": [
       "pandas.core.frame.DataFrame"
      ]
     },
     "execution_count": 57,
     "metadata": {},
     "output_type": "execute_result"
    }
   ],
   "source": [
    "type(urls_data)"
   ]
  },
  {
   "cell_type": "code",
   "execution_count": 58,
   "id": "f89a0cc3",
   "metadata": {},
   "outputs": [
    {
     "data": {
      "text/html": [
       "<div>\n",
       "<style scoped>\n",
       "    .dataframe tbody tr th:only-of-type {\n",
       "        vertical-align: middle;\n",
       "    }\n",
       "\n",
       "    .dataframe tbody tr th {\n",
       "        vertical-align: top;\n",
       "    }\n",
       "\n",
       "    .dataframe thead th {\n",
       "        text-align: right;\n",
       "    }\n",
       "</style>\n",
       "<table border=\"1\" class=\"dataframe\">\n",
       "  <thead>\n",
       "    <tr style=\"text-align: right;\">\n",
       "      <th></th>\n",
       "      <th>0</th>\n",
       "      <th>1</th>\n",
       "    </tr>\n",
       "  </thead>\n",
       "  <tbody>\n",
       "    <tr>\n",
       "      <th>0</th>\n",
       "      <td>https://www.peoplescollection.wales/discover/w...</td>\n",
       "      <td>0</td>\n",
       "    </tr>\n",
       "    <tr>\n",
       "      <th>1</th>\n",
       "      <td>http://yasli-sad.ru/css/chase/chaseall%20newin...</td>\n",
       "      <td>1</td>\n",
       "    </tr>\n",
       "    <tr>\n",
       "      <th>2</th>\n",
       "      <td>http://denizkent.net/wp-admin/js/login.alibaba...</td>\n",
       "      <td>1</td>\n",
       "    </tr>\n",
       "    <tr>\n",
       "      <th>3</th>\n",
       "      <td>http://www.marketbiz.net/mbz/wp-includes/js/jq...</td>\n",
       "      <td>1</td>\n",
       "    </tr>\n",
       "    <tr>\n",
       "      <th>4</th>\n",
       "      <td>http://guardiaoitau30horas.uniclassdispositivo...</td>\n",
       "      <td>1</td>\n",
       "    </tr>\n",
       "  </tbody>\n",
       "</table>\n",
       "</div>"
      ],
      "text/plain": [
       "                                                   0  1\n",
       "0  https://www.peoplescollection.wales/discover/w...  0\n",
       "1  http://yasli-sad.ru/css/chase/chaseall%20newin...  1\n",
       "2  http://denizkent.net/wp-admin/js/login.alibaba...  1\n",
       "3  http://www.marketbiz.net/mbz/wp-includes/js/jq...  1\n",
       "4  http://guardiaoitau30horas.uniclassdispositivo...  1"
      ]
     },
     "execution_count": 58,
     "metadata": {},
     "output_type": "execute_result"
    }
   ],
   "source": [
    "urls_data.head()"
   ]
  },
  {
   "cell_type": "code",
   "execution_count": 59,
   "id": "a94f9452",
   "metadata": {},
   "outputs": [],
   "source": [
    "def makeTokens(f):\n",
    "    tkns_BySlash = str(f.encode('utf-8')).split('/')\t# make tokens after splitting by slash\n",
    "    total_Tokens = []\n",
    "    for i in tkns_BySlash:\n",
    "        tokens = str(i).split('-')\t# make tokens after splitting by dash\n",
    "        tkns_ByDot = []\n",
    "        for j in range(0,len(tokens)):\n",
    "            temp_Tokens = str(tokens[j]).split('.')\t# make tokens after splitting by dot\n",
    "            tkns_ByDot = tkns_ByDot + temp_Tokens\n",
    "        total_Tokens = total_Tokens + tokens + tkns_ByDot\n",
    "    total_Tokens = list(set(total_Tokens))\t#remove redundant tokens\n",
    "    if 'com' in total_Tokens:\n",
    "        total_Tokens.remove('com')\t#removing .com since it occurs a lot of times and it should not be included in our features\n",
    "    return total_Tokens"
   ]
  },
  {
   "cell_type": "code",
   "execution_count": 60,
   "id": "4a087f75",
   "metadata": {},
   "outputs": [],
   "source": [
    "y = urls_data[1]"
   ]
  },
  {
   "cell_type": "code",
   "execution_count": 63,
   "id": "c4fa8435",
   "metadata": {},
   "outputs": [],
   "source": [
    "url_list = urls_data[0]"
   ]
  },
  {
   "cell_type": "code",
   "execution_count": null,
   "id": "aa68003b",
   "metadata": {},
   "outputs": [],
   "source": []
  },
  {
   "cell_type": "code",
   "execution_count": 64,
   "id": "69e77699",
   "metadata": {},
   "outputs": [],
   "source": [
    "vectorizer = TfidfVectorizer(tokenizer=makeTokens)"
   ]
  },
  {
   "cell_type": "code",
   "execution_count": 65,
   "id": "cd1f33ce",
   "metadata": {},
   "outputs": [],
   "source": [
    "X = vectorizer.fit_transform(url_list)"
   ]
  },
  {
   "cell_type": "code",
   "execution_count": 66,
   "id": "81707ade",
   "metadata": {},
   "outputs": [],
   "source": [
    "X_train, X_test, y_train, y_test = train_test_split(X, y, test_size=0.2, random_state=42)"
   ]
  },
  {
   "cell_type": "code",
   "execution_count": 67,
   "id": "fc3102a7",
   "metadata": {},
   "outputs": [
    {
     "name": "stderr",
     "output_type": "stream",
     "text": [
      "C:\\Users\\pavje\\AppData\\Local\\Programs\\Python\\Python310\\lib\\site-packages\\sklearn\\linear_model\\_logistic.py:814: ConvergenceWarning: lbfgs failed to converge (status=1):\n",
      "STOP: TOTAL NO. of ITERATIONS REACHED LIMIT.\n",
      "\n",
      "Increase the number of iterations (max_iter) or scale the data as shown in:\n",
      "    https://scikit-learn.org/stable/modules/preprocessing.html\n",
      "Please also refer to the documentation for alternative solver options:\n",
      "    https://scikit-learn.org/stable/modules/linear_model.html#logistic-regression\n",
      "  n_iter_i = _check_optimize_result(\n"
     ]
    },
    {
     "data": {
      "text/plain": [
       "LogisticRegression()"
      ]
     },
     "execution_count": 67,
     "metadata": {},
     "output_type": "execute_result"
    }
   ],
   "source": [
    "logit = LogisticRegression()\n",
    "logit.fit(X_train, y_train)"
   ]
  },
  {
   "cell_type": "code",
   "execution_count": 68,
   "id": "0c6f7173",
   "metadata": {},
   "outputs": [
    {
     "name": "stdout",
     "output_type": "stream",
     "text": [
      "Accuracy  0.9116597263533611\n"
     ]
    }
   ],
   "source": [
    "print(\"Accuracy \",logit.score(X_test, y_test))"
   ]
  },
  {
   "cell_type": "code",
   "execution_count": 69,
   "id": "678b2c1c",
   "metadata": {},
   "outputs": [],
   "source": [
    "X_predict = pd.read_csv(\"testing_data.csv\", header = None)"
   ]
  },
  {
   "cell_type": "code",
   "execution_count": 75,
   "id": "f706511f",
   "metadata": {},
   "outputs": [
    {
     "data": {
      "text/html": [
       "<div>\n",
       "<style scoped>\n",
       "    .dataframe tbody tr th:only-of-type {\n",
       "        vertical-align: middle;\n",
       "    }\n",
       "\n",
       "    .dataframe tbody tr th {\n",
       "        vertical-align: top;\n",
       "    }\n",
       "\n",
       "    .dataframe thead th {\n",
       "        text-align: right;\n",
       "    }\n",
       "</style>\n",
       "<table border=\"1\" class=\"dataframe\">\n",
       "  <thead>\n",
       "    <tr style=\"text-align: right;\">\n",
       "      <th></th>\n",
       "      <th>0</th>\n",
       "    </tr>\n",
       "  </thead>\n",
       "  <tbody>\n",
       "    <tr>\n",
       "      <th>0</th>\n",
       "      <td>http://www.skofija-novomesto.si/</td>\n",
       "    </tr>\n",
       "    <tr>\n",
       "      <th>1</th>\n",
       "      <td>http://ferlafashion.com/saint/www.loginalibaba...</td>\n",
       "    </tr>\n",
       "    <tr>\n",
       "      <th>2</th>\n",
       "      <td>http://spatrendonline.hu</td>\n",
       "    </tr>\n",
       "    <tr>\n",
       "      <th>3</th>\n",
       "      <td>http://defensasur.com.ar</td>\n",
       "    </tr>\n",
       "    <tr>\n",
       "      <th>4</th>\n",
       "      <td>http://www.digitalvd.de/dvds/37399</td>\n",
       "    </tr>\n",
       "    <tr>\n",
       "      <th>...</th>\n",
       "      <td>...</td>\n",
       "    </tr>\n",
       "    <tr>\n",
       "      <th>25214</th>\n",
       "      <td>http://mohaseban.org</td>\n",
       "    </tr>\n",
       "    <tr>\n",
       "      <th>25215</th>\n",
       "      <td>https://www.la-croix.com/</td>\n",
       "    </tr>\n",
       "    <tr>\n",
       "      <th>25216</th>\n",
       "      <td>http://bit.ly/2CbFTLv</td>\n",
       "    </tr>\n",
       "    <tr>\n",
       "      <th>25217</th>\n",
       "      <td>http://beautyatjessicas.com.au/wp-content/uplo...</td>\n",
       "    </tr>\n",
       "    <tr>\n",
       "      <th>25218</th>\n",
       "      <td>http://www.la-taverne-des-aventuriers.com/t457...</td>\n",
       "    </tr>\n",
       "  </tbody>\n",
       "</table>\n",
       "<p>25219 rows × 1 columns</p>\n",
       "</div>"
      ],
      "text/plain": [
       "                                                       0\n",
       "0                       http://www.skofija-novomesto.si/\n",
       "1      http://ferlafashion.com/saint/www.loginalibaba...\n",
       "2                               http://spatrendonline.hu\n",
       "3                               http://defensasur.com.ar\n",
       "4                     http://www.digitalvd.de/dvds/37399\n",
       "...                                                  ...\n",
       "25214                               http://mohaseban.org\n",
       "25215                          https://www.la-croix.com/\n",
       "25216                              http://bit.ly/2CbFTLv\n",
       "25217  http://beautyatjessicas.com.au/wp-content/uplo...\n",
       "25218  http://www.la-taverne-des-aventuriers.com/t457...\n",
       "\n",
       "[25219 rows x 1 columns]"
      ]
     },
     "execution_count": 75,
     "metadata": {},
     "output_type": "execute_result"
    }
   ],
   "source": [
    "X_predict"
   ]
  },
  {
   "cell_type": "code",
   "execution_count": 76,
   "id": "c9ff2794",
   "metadata": {},
   "outputs": [
    {
     "data": {
      "text/plain": [
       "dtype('float64')"
      ]
     },
     "execution_count": 76,
     "metadata": {},
     "output_type": "execute_result"
    }
   ],
   "source": [
    "predicted_X = vectorizer.transform(X_predict.iloc[:,0])\n",
    "predicted_X.dtype"
   ]
  },
  {
   "cell_type": "code",
   "execution_count": 77,
   "id": "e39d19f8",
   "metadata": {},
   "outputs": [],
   "source": [
    "New_predict = logit.predict(predicted_X)"
   ]
  },
  {
   "cell_type": "code",
   "execution_count": 78,
   "id": "56bf4031",
   "metadata": {},
   "outputs": [
    {
     "name": "stdout",
     "output_type": "stream",
     "text": [
      "[0 1 0 ... 1 1 0]\n"
     ]
    }
   ],
   "source": [
    "print(New_predict)"
   ]
  },
  {
   "cell_type": "code",
   "execution_count": 79,
   "id": "f751317f",
   "metadata": {},
   "outputs": [],
   "source": [
    "op = pd.DataFrame(New_predict)"
   ]
  },
  {
   "cell_type": "code",
   "execution_count": 84,
   "id": "1b6b4213",
   "metadata": {},
   "outputs": [],
   "source": [
    "op.to_csv(r'C:\\Users\\pavje\\Desktop\\output.csv',index=False)"
   ]
  },
  {
   "cell_type": "code",
   "execution_count": null,
   "id": "61014c31",
   "metadata": {},
   "outputs": [],
   "source": []
  },
  {
   "cell_type": "code",
   "execution_count": null,
   "id": "bb99ded9",
   "metadata": {},
   "outputs": [],
   "source": []
  },
  {
   "cell_type": "code",
   "execution_count": null,
   "id": "8b508e1a",
   "metadata": {},
   "outputs": [],
   "source": []
  },
  {
   "cell_type": "code",
   "execution_count": null,
   "id": "face9c20",
   "metadata": {},
   "outputs": [],
   "source": []
  },
  {
   "cell_type": "code",
   "execution_count": null,
   "id": "c5e9c3a8",
   "metadata": {},
   "outputs": [],
   "source": []
  },
  {
   "cell_type": "code",
   "execution_count": null,
   "id": "d58e029a",
   "metadata": {},
   "outputs": [],
   "source": []
  },
  {
   "cell_type": "code",
   "execution_count": null,
   "id": "107756fc",
   "metadata": {},
   "outputs": [],
   "source": []
  },
  {
   "cell_type": "code",
   "execution_count": null,
   "id": "792f4300",
   "metadata": {},
   "outputs": [],
   "source": []
  },
  {
   "cell_type": "code",
   "execution_count": 85,
   "id": "86d4b1cd",
   "metadata": {},
   "outputs": [
    {
     "name": "stdout",
     "output_type": "stream",
     "text": [
      "Accuracy  0.9116597263533611\n"
     ]
    }
   ],
   "source": [
    "print(\"Accuracy \",logit.score(X_test, y_test))"
   ]
  },
  {
   "cell_type": "code",
   "execution_count": 86,
   "id": "accf6580",
   "metadata": {},
   "outputs": [
    {
     "name": "stdout",
     "output_type": "stream",
     "text": [
      "[0 1 1 ... 0 0 1]\n"
     ]
    }
   ],
   "source": [
    "y_predict = logit.predict(X)\n",
    "print(y_predict)"
   ]
  },
  {
   "cell_type": "code",
   "execution_count": 87,
   "id": "c3894b69",
   "metadata": {},
   "outputs": [],
   "source": [
    "final_df = pd.DataFrame()"
   ]
  },
  {
   "cell_type": "code",
   "execution_count": 88,
   "id": "ea44defd",
   "metadata": {},
   "outputs": [],
   "source": [
    "final_df['a'] = y_predict"
   ]
  },
  {
   "cell_type": "code",
   "execution_count": null,
   "id": "2d17e868",
   "metadata": {},
   "outputs": [],
   "source": []
  },
  {
   "cell_type": "code",
   "execution_count": null,
   "id": "ca507a1b",
   "metadata": {},
   "outputs": [],
   "source": []
  }
 ],
 "metadata": {
  "kernelspec": {
   "display_name": "Python 3 (ipykernel)",
   "language": "python",
   "name": "python3"
  },
  "language_info": {
   "codemirror_mode": {
    "name": "ipython",
    "version": 3
   },
   "file_extension": ".py",
   "mimetype": "text/x-python",
   "name": "python",
   "nbconvert_exporter": "python",
   "pygments_lexer": "ipython3",
   "version": "3.10.0"
  }
 },
 "nbformat": 4,
 "nbformat_minor": 5
}
